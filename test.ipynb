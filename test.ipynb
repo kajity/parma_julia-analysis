{
 "cells": [
  {
   "cell_type": "code",
   "execution_count": 1,
   "id": "1e2c7467",
   "metadata": {},
   "outputs": [
    {
     "name": "stdout",
     "output_type": "stream",
     "text": [
      "hello world\n"
     ]
    }
   ],
   "source": [
    "println(\"hello world\")"
   ]
  },
  {
   "cell_type": "code",
   "execution_count": 2,
   "id": "d4340b54",
   "metadata": {},
   "outputs": [
    {
     "data": {
      "text/plain": [
       "2"
      ]
     },
     "execution_count": 2,
     "metadata": {},
     "output_type": "execute_result"
    }
   ],
   "source": [
    "1+1"
   ]
  },
  {
   "cell_type": "code",
   "execution_count": 3,
   "id": "8a4d5276",
   "metadata": {},
   "outputs": [
    {
     "data": {
      "text/plain": [
       "fibonacci (generic function with 1 method)"
      ]
     },
     "execution_count": 3,
     "metadata": {},
     "output_type": "execute_result"
    }
   ],
   "source": [
    "function fibonacci(n)\n",
    "  a::BigInt = b::BigInt = 1\n",
    "  # a = b = 1\n",
    "  for i in 3:n\n",
    "    a, b = b, a + b\n",
    "  end\n",
    "  return b\n",
    "end"
   ]
  },
  {
   "cell_type": "code",
   "execution_count": 4,
   "id": "dd2dde64",
   "metadata": {},
   "outputs": [
    {
     "name": "stdout",
     "output_type": "stream",
     "text": [
      "  0.000211 seconds (400 allocations: 11.141 KiB)\n"
     ]
    },
    {
     "data": {
      "text/plain": [
       "280571172992510140037611932413038677189525"
      ]
     },
     "execution_count": 4,
     "metadata": {},
     "output_type": "execute_result"
    }
   ],
   "source": [
    "@time fibonacci(200)"
   ]
  },
  {
   "cell_type": "code",
   "execution_count": 5,
   "id": "34eaab48",
   "metadata": {},
   "outputs": [
    {
     "data": {
      "text/plain": [
       "\"/bin/bash\""
      ]
     },
     "execution_count": 5,
     "metadata": {},
     "output_type": "execute_result"
    }
   ],
   "source": [
    "path = @ccall getenv(\"SHELL\"::Cstring)::Cstring\n",
    "unsafe_string(path)"
   ]
  },
  {
   "cell_type": "code",
   "execution_count": 6,
   "id": "1d84ca01",
   "metadata": {},
   "outputs": [
    {
     "name": "stdout",
     "output_type": "stream",
     "text": [
      "  0.015538 seconds (1.87 k allocations: 86.406 KiB, 99.68% compilation time)\n"
     ]
    },
    {
     "data": {
      "text/plain": [
       "2.066666666666667"
      ]
     },
     "execution_count": 6,
     "metadata": {},
     "output_type": "execute_result"
    }
   ],
   "source": [
    "calc_mean = () -> ccall((:mean, \"./libmean.so\"), Cdouble, (Cdouble, Cdouble, Cdouble), 1.0, 2.0, 3.2)\n",
    "@time ret = calc_mean()"
   ]
  },
  {
   "cell_type": "code",
   "execution_count": 7,
   "id": "fe8889a4",
   "metadata": {},
   "outputs": [
    {
     "name": "stdout",
     "output_type": "stream",
     "text": [
      "  0.004913 seconds (1.44 k allocations: 66.734 KiB, 99.39% compilation time)\n"
     ]
    },
    {
     "data": {
      "text/plain": [
       "2.1333333333333333"
      ]
     },
     "execution_count": 7,
     "metadata": {},
     "output_type": "execute_result"
    }
   ],
   "source": [
    "calc_mean = (x, y, z) -> @ccall \"./libmean\".mean(x::Cdouble, y::Cdouble, z::Cdouble)::Cdouble\n",
    "@time ret = calc_mean(1.0, 2.0, 3.4)"
   ]
  },
  {
   "cell_type": "code",
   "execution_count": 8,
   "id": "755c476b",
   "metadata": {},
   "outputs": [
    {
     "data": {
      "text/plain": [
       "gethostname2 (generic function with 1 method)"
      ]
     },
     "execution_count": 8,
     "metadata": {},
     "output_type": "execute_result"
    }
   ],
   "source": [
    "function gethostname2()\n",
    "  # buf = Ref{UInt8}(0)\n",
    "  buf = Vector{UInt8}(undef, 256)\n",
    "  err = @ccall gethostname(buf::Ptr{UInt8}, sizeof(buf)::UInt)::Int32\n",
    "  buf[end] = 0\n",
    "  return GC.@preserve buf unsafe_string(pointer(buf))\n",
    "end"
   ]
  },
  {
   "cell_type": "code",
   "execution_count": 9,
   "id": "50c702bf",
   "metadata": {},
   "outputs": [
    {
     "name": "stdout",
     "output_type": "stream",
     "text": [
      "  0.000007 seconds (3 allocations: 352 bytes)\n",
      "  0.000006 seconds (3 allocations: 352 bytes)\n"
     ]
    },
    {
     "data": {
      "text/plain": [
       "\"LAPTOP-TN0NONHF\""
      ]
     },
     "execution_count": 9,
     "metadata": {},
     "output_type": "execute_result"
    }
   ],
   "source": [
    "@time gethostname2()\n",
    "@time gethostname()"
   ]
  },
  {
   "cell_type": "code",
   "execution_count": 10,
   "id": "064afbf6",
   "metadata": {},
   "outputs": [
    {
     "name": "stdout",
     "output_type": "stream",
     "text": [
      "8\n"
     ]
    }
   ],
   "source": [
    "const REF_ID = Ref(8)\n",
    "next_ref_id() = (id = REF_ID[]; REF_ID[] = id+1; id)\n",
    "println(next_ref_id())"
   ]
  },
  {
   "cell_type": "code",
   "execution_count": null,
   "id": "c907eb5b",
   "metadata": {},
   "outputs": [],
   "source": [
    "parma = () -> @ccall \"../build/libparma_main.so\".main()::Cint\n",
    "@time ret = parma()"
   ]
  }
 ],
 "metadata": {
  "kernelspec": {
   "display_name": "Julia 1.11.5",
   "language": "julia",
   "name": "julia-1.11"
  },
  "language_info": {
   "file_extension": ".jl",
   "mimetype": "application/julia",
   "name": "julia",
   "version": "1.11.5"
  }
 },
 "nbformat": 4,
 "nbformat_minor": 5
}
