{
 "cells": [
  {
   "cell_type": "code",
   "execution_count": 5,
   "id": "930f3318",
   "metadata": {},
   "outputs": [],
   "source": [
    "using LinearAlgebra"
   ]
  },
  {
   "cell_type": "code",
   "execution_count": 6,
   "id": "c96d9dcc",
   "metadata": {},
   "outputs": [
    {
     "data": {
      "text/plain": [
       "R (generic function with 1 method)"
      ]
     },
     "execution_count": 6,
     "metadata": {},
     "output_type": "execute_result"
    }
   ],
   "source": [
    "R(θ) = [cos(θ) -sin(θ);\n",
    "         sin(θ) cos(θ)]"
   ]
  },
  {
   "cell_type": "code",
   "execution_count": 7,
   "id": "1fec2473",
   "metadata": {},
   "outputs": [
    {
     "data": {
      "text/plain": [
       "Rrank (generic function with 1 method)"
      ]
     },
     "execution_count": 7,
     "metadata": {},
     "output_type": "execute_result"
    }
   ],
   "source": [
    "Rrank(θ) = rank(R(θ))"
   ]
  },
  {
   "cell_type": "code",
   "execution_count": 9,
   "id": "32dd4da6",
   "metadata": {},
   "outputs": [
    {
     "data": {
      "text/plain": [
       "2"
      ]
     },
     "execution_count": 9,
     "metadata": {},
     "output_type": "execute_result"
    }
   ],
   "source": [
    "Rrank(10π)"
   ]
  },
  {
   "cell_type": "code",
   "execution_count": 12,
   "id": "4b11c3f0",
   "metadata": {},
   "outputs": [
    {
     "data": {
      "text/plain": [
       "2×2 Matrix{Float64}:\n",
       " -0.5       -0.866025\n",
       "  0.866025  -0.5"
      ]
     },
     "execution_count": 12,
     "metadata": {},
     "output_type": "execute_result"
    }
   ],
   "source": [
    "Rinv(θ) = R(-θ)\n",
    "Rinv(4π / 3)"
   ]
  },
  {
   "cell_type": "code",
   "execution_count": 18,
   "id": "50161b51",
   "metadata": {},
   "outputs": [
    {
     "data": {
      "text/plain": [
       "2-element Vector{ComplexF64}:\n",
       " 0.5000000000000001 - 0.8660254037844386im\n",
       " 0.5000000000000001 + 0.8660254037844386im"
      ]
     },
     "execution_count": 18,
     "metadata": {},
     "output_type": "execute_result"
    }
   ],
   "source": [
    "# R(π / 3)\n",
    "eigvals(R(π / 3))"
   ]
  },
  {
   "cell_type": "code",
   "execution_count": 22,
   "id": "98c3c741",
   "metadata": {},
   "outputs": [
    {
     "data": {
      "text/plain": [
       "5×5 Matrix{Float64}:\n",
       " 1.0       0.5       0.333333  0.25      0.2\n",
       " 0.5       0.333333  0.25      0.2       0.166667\n",
       " 0.333333  0.25      0.2       0.166667  0.142857\n",
       " 0.25      0.2       0.166667  0.142857  0.125\n",
       " 0.2       0.166667  0.142857  0.125     0.111111"
      ]
     },
     "execution_count": 22,
     "metadata": {},
     "output_type": "execute_result"
    }
   ],
   "source": [
    "f(i, j) = 1 / (i + j - 1)  # ヒルベルト行列の定義\n",
    "n = 5\n",
    "A = [f(i, j) for i in 1:n, j in 1:n]  # 数値行列に変換\n"
   ]
  }
 ],
 "metadata": {
  "kernelspec": {
   "display_name": "Julia 1.11.5",
   "language": "julia",
   "name": "julia-1.11"
  },
  "language_info": {
   "file_extension": ".jl",
   "mimetype": "application/julia",
   "name": "julia",
   "version": "1.11.5"
  }
 },
 "nbformat": 4,
 "nbformat_minor": 5
}
